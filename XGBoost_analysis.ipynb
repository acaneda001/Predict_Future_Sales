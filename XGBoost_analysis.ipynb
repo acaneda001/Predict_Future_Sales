{
 "cells": [
  {
   "cell_type": "code",
   "execution_count": 1,
   "metadata": {},
   "outputs": [],
   "source": [
    "import pandas as pd\n",
    "import matplotlib.pyplot as plt\n",
    "import seaborn as sns\n",
    "import numpy as np\n",
    "\n",
    "from sklearn.metrics import mean_absolute_error\n",
    "from sklearn.ensemble import RandomForestRegressor\n",
    "from xgboost import XGBRegressor\n",
    "from xgboost import plot_importance\n",
    "\n",
    "\n",
    "plt.style.use('ggplot')"
   ]
  },
  {
   "cell_type": "code",
   "execution_count": 2,
   "metadata": {},
   "outputs": [],
   "source": [
    "df_train = pd.read_csv('input/sales_train.csv')\n",
    "df_test = pd.read_csv(\"input/test.csv\")\n",
    "df_categories = pd.read_csv(\"input/item_categories.csv\")\n",
    "df_items = pd.read_csv(\"input/items.csv\")\n",
    "df_shops = pd.read_csv(\"input/shops.csv\")"
   ]
  },
  {
   "cell_type": "code",
   "execution_count": 3,
   "metadata": {},
   "outputs": [],
   "source": [
    "def graph_insight(data):\n",
    "    df_num = data.select_dtypes(include=['float64', 'int64'])\n",
    "    df_num.hist(figsize=(16, 16), bins=50, xlabelsize=8, ylabelsize=8)\n",
    "    plt.show()\n",
    "\n",
    "\n",
    "def boxplot(data):\n",
    "    df_num = data.select_dtypes(include=['float64', 'int64'])\n",
    "    df_num.boxplot()\n",
    "\n",
    "\n",
    "def eda(data):\n",
    "    print(\"----------Top-5- Record----------\")\n",
    "    print(data.head(5))\n",
    "    print(\"-----------Information-----------\")\n",
    "    print(data.info())\n",
    "    print(\"----------Describe-------------\")\n",
    "    print(data.describe())\n",
    "    print(\"----------Columns--------------\")\n",
    "    print(data.columns)\n",
    "    print(\"-----------Data Types-----------\")\n",
    "    print(data.dtypes)\n",
    "    print(\"----------Missing value-----------\")\n",
    "    print(data.isnull().sum())\n",
    "    print(\"----------Null value-----------\")\n",
    "    print(data.isna().sum())\n",
    "    print(\"----------Shape of Data----------\")\n",
    "    print(data.shape)\n",
    "    print(\"----------Duplicates----------\")\n",
    "    print(\"Duplicated rows   \" + str(len(data[data.duplicated()])))\n",
    "\n",
    "\n",
    "def stat_data(data):\n",
    "    print(\"----------Stat Data ----------\")\n",
    "    print(\"Min Value:\", data.min())\n",
    "    print(\"Max Value:\", data.max())\n",
    "    print(\"Average Value:\", data.mean())\n",
    "    print(\"Center Point of Data:\", data.median())"
   ]
  },
  {
   "cell_type": "code",
   "execution_count": 4,
   "metadata": {},
   "outputs": [
    {
     "name": "stdout",
     "output_type": "stream",
     "text": [
      "----------Top-5- Record----------\n",
      "         date  date_block_num  shop_id  item_id  item_price  item_cnt_day\n",
      "0  02.01.2013               0       59    22154      999.00           1.0\n",
      "1  03.01.2013               0       25     2552      899.00           1.0\n",
      "2  05.01.2013               0       25     2552      899.00          -1.0\n",
      "3  06.01.2013               0       25     2554     1709.05           1.0\n",
      "4  15.01.2013               0       25     2555     1099.00           1.0\n",
      "-----------Information-----------\n",
      "<class 'pandas.core.frame.DataFrame'>\n",
      "RangeIndex: 2935849 entries, 0 to 2935848\n",
      "Data columns (total 6 columns):\n",
      " #   Column          Dtype  \n",
      "---  ------          -----  \n",
      " 0   date            object \n",
      " 1   date_block_num  int64  \n",
      " 2   shop_id         int64  \n",
      " 3   item_id         int64  \n",
      " 4   item_price      float64\n",
      " 5   item_cnt_day    float64\n",
      "dtypes: float64(2), int64(3), object(1)\n",
      "memory usage: 134.4+ MB\n",
      "None\n",
      "----------Describe-------------\n",
      "       date_block_num       shop_id       item_id    item_price  item_cnt_day\n",
      "count    2.935849e+06  2.935849e+06  2.935849e+06  2.935849e+06  2.935849e+06\n",
      "mean     1.456991e+01  3.300173e+01  1.019723e+04  8.908532e+02  1.242641e+00\n",
      "std      9.422988e+00  1.622697e+01  6.324297e+03  1.729800e+03  2.618834e+00\n",
      "min      0.000000e+00  0.000000e+00  0.000000e+00 -1.000000e+00 -2.200000e+01\n",
      "25%      7.000000e+00  2.200000e+01  4.476000e+03  2.490000e+02  1.000000e+00\n",
      "50%      1.400000e+01  3.100000e+01  9.343000e+03  3.990000e+02  1.000000e+00\n",
      "75%      2.300000e+01  4.700000e+01  1.568400e+04  9.990000e+02  1.000000e+00\n",
      "max      3.300000e+01  5.900000e+01  2.216900e+04  3.079800e+05  2.169000e+03\n",
      "----------Columns--------------\n",
      "Index(['date', 'date_block_num', 'shop_id', 'item_id', 'item_price',\n",
      "       'item_cnt_day'],\n",
      "      dtype='object')\n",
      "-----------Data Types-----------\n",
      "date               object\n",
      "date_block_num      int64\n",
      "shop_id             int64\n",
      "item_id             int64\n",
      "item_price        float64\n",
      "item_cnt_day      float64\n",
      "dtype: object\n",
      "----------Missing value-----------\n",
      "date              0\n",
      "date_block_num    0\n",
      "shop_id           0\n",
      "item_id           0\n",
      "item_price        0\n",
      "item_cnt_day      0\n",
      "dtype: int64\n",
      "----------Null value-----------\n",
      "date              0\n",
      "date_block_num    0\n",
      "shop_id           0\n",
      "item_id           0\n",
      "item_price        0\n",
      "item_cnt_day      0\n",
      "dtype: int64\n",
      "----------Shape of Data----------\n",
      "(2935849, 6)\n",
      "----------Duplicates----------\n",
      "Duplicated rows   6\n"
     ]
    }
   ],
   "source": [
    "eda(df_train)\n",
    "# boxplot(df_train)\n",
    "# graph_insight(df_train)\n",
    "# stat_data(df_train)"
   ]
  },
  {
   "cell_type": "code",
   "execution_count": 5,
   "metadata": {},
   "outputs": [],
   "source": [
    "\n",
    "df_train.drop_duplicates(['date', 'date_block_num', 'shop_id', 'item_id', 'item_cnt_day'], keep='first',\n",
    "                         inplace=True)  # remove duplicates\n",
    "df_train = df_train[(df_train.item_price < 300000)]  # remove price outliers\n",
    "df_train.date = pd.to_datetime(df_train.date)\n"
   ]
  },
  {
   "cell_type": "code",
   "execution_count": 6,
   "metadata": {},
   "outputs": [
    {
     "data": {
      "image/png": "[encoded data removed]",
      "text/plain": [
       "<Figure size 432x288 with 1 Axes>"
      ]
     },
     "metadata": {},
     "output_type": "display_data"
    },
    {
     "name": "stdout",
     "output_type": "stream",
     "text": [
      "        shop_id  item_id  date_block_num  item_price  item_cnt_day\n",
      "219720       31     5821              34          34            34\n",
      "153691       25     4249              34          34            34\n",
      "190671       28     7894              34          34            34\n",
      "40169         6    17717              34          34            34\n"
     ]
    }
   ],
   "source": [
    "#Check how things plot\n",
    "df_train_group = df_train.groupby([\"date_block_num\", \"shop_id\", \"item_id\"]).sum().reset_index()\n",
    "\n",
    "df_plot = df_train_group[(df_train_group.shop_id == 31) & (df_train_group.item_id == 5821)]\n",
    "plt.plot(df_plot[\"date_block_num\"], df_plot[\"item_cnt_day\"])\n",
    "plt.show()\n",
    "\n",
    "new_df = df_train_group.groupby([\"shop_id\", \"item_id\"]).count().reset_index()\n",
    "new_df.sort_values(by=['date_block_num'], ascending=False, inplace=True)\n",
    "\n",
    "print(new_df.head(4))\n"
   ]
  },
  {
   "cell_type": "code",
   "execution_count": 11,
   "metadata": {},
   "outputs": [
    {
     "name": "stdout",
     "output_type": "stream",
     "text": [
      "   shop_id  item_id    0     1    2    3    4    5    6    7  ...   24   25  \\\n",
      "0        0       30  0.0  31.0  0.0  0.0  0.0  0.0  0.0  0.0  ...  0.0  0.0   \n",
      "1        0       31  0.0  11.0  0.0  0.0  0.0  0.0  0.0  0.0  ...  0.0  0.0   \n",
      "2        0       32  6.0  10.0  0.0  0.0  0.0  0.0  0.0  0.0  ...  0.0  0.0   \n",
      "3        0       33  3.0   3.0  0.0  0.0  0.0  0.0  0.0  0.0  ...  0.0  0.0   \n",
      "4        0       35  1.0  14.0  0.0  0.0  0.0  0.0  0.0  0.0  ...  0.0  0.0   \n",
      "\n",
      "    26   27   28   29   30   31   32   33  \n",
      "0  0.0  0.0  0.0  0.0  0.0  0.0  0.0  0.0  \n",
      "1  0.0  0.0  0.0  0.0  0.0  0.0  0.0  0.0  \n",
      "2  0.0  0.0  0.0  0.0  0.0  0.0  0.0  0.0  \n",
      "3  0.0  0.0  0.0  0.0  0.0  0.0  0.0  0.0  \n",
      "4  0.0  0.0  0.0  0.0  0.0  0.0  0.0  0.0  \n",
      "\n",
      "[5 rows x 36 columns]\n",
      "            count          mean          std   min     25%      50%      75%  \\\n",
      "shop_id  424123.0     31.431269    16.962058   0.0    18.0     30.0     46.0   \n",
      "item_id  424123.0  11458.032927  6133.334101   0.0  6244.0  11614.0  16662.0   \n",
      "0        424123.0      0.309995     1.511653 -13.0     0.0      0.0      0.0   \n",
      "1        424123.0      0.302007     1.599235  -4.0     0.0      0.0      0.0   \n",
      "2        424123.0      0.346928     2.051990  -2.0     0.0      0.0      0.0   \n",
      "3        424123.0      0.252731     1.360011  -2.0     0.0      0.0      0.0   \n",
      "4        424123.0      0.252215     2.010465  -1.0     0.0      0.0      0.0   \n",
      "5        424123.0      0.295624     3.319196  -1.0     0.0      0.0      0.0   \n",
      "6        424123.0      0.275783     2.737081  -2.0     0.0      0.0      0.0   \n",
      "7        424123.0      0.295412     2.915467  -2.0     0.0      0.0      0.0   \n",
      "8        424123.0      0.314371     3.957598  -1.0     0.0      0.0      0.0   \n",
      "9        424123.0      0.300717     3.416919  -1.0     0.0      0.0      0.0   \n",
      "10       424123.0      0.306536     3.562472 -22.0     0.0      0.0      0.0   \n",
      "11       424123.0      0.432280     4.545393  -1.0     0.0      0.0      0.0   \n",
      "12       424123.0      0.275625     2.792221  -2.0     0.0      0.0      0.0   \n",
      "13       424123.0      0.258618     2.682914  -2.0     0.0      0.0      0.0   \n",
      "14       424123.0      0.271841     2.917290  -1.0     0.0      0.0      0.0   \n",
      "15       424123.0      0.227660     2.891464  -1.0     0.0      0.0      0.0   \n",
      "16       424123.0      0.230568     2.301199  -1.0     0.0      0.0      0.0   \n",
      "17       424123.0      0.229719     2.487421  -2.0     0.0      0.0      0.0   \n",
      "18       424123.0      0.215218     2.181071  -2.0     0.0      0.0      0.0   \n",
      "19       424123.0      0.242192     2.358822  -5.0     0.0      0.0      0.0   \n",
      "20       424123.0      0.233913     3.269807  -1.0     0.0      0.0      0.0   \n",
      "21       424123.0      0.253280     3.427632  -1.0     0.0      0.0      0.0   \n",
      "22       424123.0      0.277853     3.688508  -1.0     0.0      0.0      0.0   \n",
      "23       424123.0      0.397885     4.571614  -1.0     0.0      0.0      0.0   \n",
      "24       424123.0      0.261648     3.762657  -2.0     0.0      0.0      0.0   \n",
      "25       424123.0      0.198518     1.528043  -1.0     0.0      0.0      0.0   \n",
      "26       424123.0      0.193373     1.492461  -2.0     0.0      0.0      0.0   \n",
      "27       424123.0      0.183501     3.579922  -1.0     0.0      0.0      0.0   \n",
      "28       424123.0      0.170458     2.840773  -1.0     0.0      0.0      0.0   \n",
      "29       424123.0      0.151168     1.699410  -1.0     0.0      0.0      0.0   \n",
      "30       424123.0      0.148983     1.577263  -1.0     0.0      0.0      0.0   \n",
      "31       424123.0      0.155802     1.597583  -2.0     0.0      0.0      0.0   \n",
      "32       424123.0      0.171750     4.919665  -1.0     0.0      0.0      0.0   \n",
      "33       424123.0      0.167534     4.006458  -1.0     0.0      0.0      0.0   \n",
      "\n",
      "             max  \n",
      "shop_id     59.0  \n",
      "item_id  22169.0  \n",
      "0          169.0  \n",
      "1          130.0  \n",
      "2          259.0  \n",
      "3          175.0  \n",
      "4          504.0  \n",
      "5          766.0  \n",
      "6          799.0  \n",
      "7          820.0  \n",
      "8          950.0  \n",
      "9          978.0  \n",
      "10         989.0  \n",
      "11        1305.0  \n",
      "12         899.0  \n",
      "13         941.0  \n",
      "14         776.0  \n",
      "15         903.0  \n",
      "16         602.0  \n",
      "17         771.0  \n",
      "18         563.0  \n",
      "19         591.0  \n",
      "20         904.0  \n",
      "21        1074.0  \n",
      "22         888.0  \n",
      "23        1209.0  \n",
      "24        1127.0  \n",
      "25         300.0  \n",
      "26         291.0  \n",
      "27        1242.0  \n",
      "28         742.0  \n",
      "29         444.0  \n",
      "30         482.0  \n",
      "31         436.0  \n",
      "32        1644.0  \n",
      "33        2253.0  \n"
     ]
    }
   ],
   "source": [
    "df_train_pivot = pd.pivot_table(df_train, values=['item_cnt_day'], index=['shop_id', 'item_id'],\n",
    "                                columns=['date_block_num'],\n",
    "                                aggfunc=sum).fillna(0)\n",
    "\n",
    "df_train_pivot.columns = [col[1] for col in df_train_pivot.columns]\n",
    "df_train_pivot = df_train_pivot.reset_index()\n",
    "# add later item_category_id\n",
    "\n",
    "print(df_train_pivot.head())\n",
    "print(df_train_pivot.describe().T)"
   ]
  },
  {
   "cell_type": "code",
   "execution_count": 12,
   "metadata": {},
   "outputs": [],
   "source": [
    "from sklearn.model_selection import train_test_split\n",
    "\n",
    "X = df_train_pivot.drop(columns=[33, \"shop_id\", \"item_id\"])\n",
    "y = df_train_pivot[33]\n",
    "\n",
    "X_train, X_val, y_train, y_val = train_test_split(X, y, test_size=0.33, random_state=1)"
   ]
  },
  {
   "cell_type": "code",
   "execution_count": 13,
   "metadata": {},
   "outputs": [
    {
     "name": "stdout",
     "output_type": "stream",
     "text": [
      "RMAE: 0.49237263743393134\n"
     ]
    }
   ],
   "source": [
    "# model\n",
    "model = XGBRegressor(random_state=0)\n",
    "\n",
    "# Preprocessing of training data, fit model\n",
    "model.fit(X_train, y_train)\n",
    "# Preprocessing of validation data, get predictions\n",
    "preds = model.predict(X_val)\n",
    "\n",
    "# Evaluate the model\n",
    "score = mean_absolute_error(y_val, preds)\n",
    "print('RMAE:', np.sqrt(score))\n",
    "\n"
   ]
  },
  {
   "cell_type": "code",
   "execution_count": 10,
   "metadata": {},
   "outputs": [],
   "source": [
    "preds = pd.DataFrame(preds)\n",
    "preds.to_csv(\"output/prediction.csv\")"
   ]
  },
  {
   "cell_type": "code",
   "execution_count": 11,
   "metadata": {},
   "outputs": [
    {
     "data": {
      "text/plain": [
       "<matplotlib.axes._subplots.AxesSubplot at 0x2341da9cec8>"
      ]
     },
     "execution_count": 11,
     "metadata": {},
     "output_type": "execute_result"
    },
    {
     "data": {
      "image/png": "[encoded data removed]",
      "text/plain": [
       "<Figure size 432x288 with 1 Axes>"
      ]
     },
     "metadata": {},
     "output_type": "display_data"
    }
   ],
   "source": [
    "fig, ax = plt.subplots(1,1)\n",
    "plot_importance(booster=model, ax=ax)\n"
   ]
  },
  {
   "cell_type": "code",
   "execution_count": 32,
   "metadata": {},
   "outputs": [],
   "source": [
    "df_test_pivot = pd.merge(df_test, df_train_pivot, on=['item_id', 'shop_id'], how='left').fillna(0)\n",
    "df_test_pivot = df_test_pivot.drop(columns=[\"ID\"])"
   ]
  },
  {
   "cell_type": "code",
   "execution_count": 34,
   "metadata": {},
   "outputs": [
    {
     "name": "stdout",
     "output_type": "stream",
     "text": [
      "(214200, 35)\n"
     ]
    }
   ],
   "source": [
    "X_test = df_test_pivot.drop(columns=0)\n",
    "\n",
    "X_test.columns = X.columns\n"
   ]
  },
  {
   "cell_type": "code",
   "execution_count": 35,
   "metadata": {},
   "outputs": [
    {
     "name": "stdout",
     "output_type": "stream",
     "text": [
      "(214200, 3)\n",
      "(214200,)\n"
     ]
    }
   ],
   "source": [
    "prediction_test = model.predict(X_test)\n",
    "\n",
    "print(df_test.shape)\n",
    "print(prediction_test.shape)"
   ]
  },
  {
   "cell_type": "code",
   "execution_count": 36,
   "metadata": {},
   "outputs": [],
   "source": [
    "output = pd.DataFrame({\"ID\": df_test[\"ID\"], \"item_cnt_month\": prediction_test.clip(0, 20)})\n",
    "output.to_csv(\"output/submission2.csv\",index=False)"
   ]
  }
 ],
 "metadata": {
  "kernelspec": {
   "display_name": "Python 3.7.7 64-bit",
   "language": "python",
   "name": "python37764bite5e03d8a970b4d0197ab37b51ac09e29"
  },
  "language_info": {
   "codemirror_mode": {
    "name": "ipython",
    "version": 3
   },
   "file_extension": ".py",
   "mimetype": "text/x-python",
   "name": "python",
   "nbconvert_exporter": "python",
   "pygments_lexer": "ipython3",
   "version": "3.7.7"
  }
 },
 "nbformat": 4,
 "nbformat_minor": 4
}
